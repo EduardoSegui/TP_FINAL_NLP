{
  "cells": [
    {
      "cell_type": "markdown",
      "source": [
        "###IMPORTANTE\n",
        "\n",
        "Bueno, mi idea aquí es dejar una estructura de cómo sería el código para crear los agentes y resolver mi problema planteado en el ejercicio dos del TP. Obviamente, no tengo API key de OpenAI, pero si la tuviera, cargaría el archivo OAI_CONFIG_LIST a Colab y probaría si funciona  y tampoco tengo pagina ja!\n",
        "\n",
        "Fuente: https://microsoft.github.io/autogen/docs/Examples/#automated-multi-agent-chat"
      ],
      "metadata": {
        "id": "_33-Nc8m9HXC"
      }
    },
    {
      "cell_type": "markdown",
      "metadata": {
        "id": "PPZkHhv4sqE9"
      },
      "source": [
        "\n",
        "AutoGen ofrece agentes conversacionales alimentados por LLM, herramientas o humanos, que pueden ser utilizados para realizar tareas de manera colectiva a través de chats automatizados. Este marco permite el uso de herramientas y la participación humana a través de conversaciones de múltiples agentes. Encuentra documentación sobre esta característica aquí."
      ]
    },
    {
      "cell_type": "code",
      "execution_count": null,
      "metadata": {
        "id": "IL_dvNvesqE_"
      },
      "outputs": [],
      "source": [
        "!pip install pyautogen\n"
      ]
    },
    {
      "cell_type": "markdown",
      "metadata": {
        "id": "j9HNUm6psqFB"
      },
      "source": [
        "La función config_list_from_json carga una lista de configuraciones desde una variable de entorno o un archivo JSON."
      ]
    },
    {
      "cell_type": "code",
      "execution_count": null,
      "metadata": {
        "id": "66LFWjf6sqFC"
      },
      "outputs": [],
      "source": [
        "import autogen\n",
        "\n",
        "config_list_gpt4 = autogen.config_list_from_json(\n",
        "    \"OAI_CONFIG_LIST\",\n",
        "    filter_dict={\n",
        "        \"model\": [\"gpt-4-32k\", \"gpt-4-32k-0314\", \"gpt-4-32k-v0314\"],\n",
        "    },\n",
        ")"
      ]
    },
    {
      "cell_type": "markdown",
      "metadata": {
        "id": "sLxJ5fVdsqFD"
      },
      "source": [
        "Primero busca la variable de entorno \"OAI_CONFIG_LIST\", que debe ser una cadena JSON válida. Si no se encuentra esa variable, entonces busca un archivo JSON llamado \"OAI_CONFIG_LIST\". Filtra las configuraciones por modelos (también puedes filtrar por otras claves).\n",
        "\n",
        "La lista de configuraciones se ve como sigue:\n",
        "```python\n",
        "config_list = [\n",
        "    {\n",
        "        'model': 'gpt-4-32k',\n",
        "        'api_key': '<your OpenAI API key here>',\n",
        "    },\n",
        "    {\n",
        "        'model': 'gpt-4-32k',\n",
        "        'api_key': '<your Azure OpenAI API key here>',\n",
        "        'base_url': '<your Azure OpenAI API base here>',\n",
        "        'api_type': 'azure',\n",
        "        'api_version': '2023-06-01-preview',\n",
        "    },\n",
        "    {\n",
        "        'model': 'gpt-4-32k-0314',\n",
        "        'api_key': '<your Azure OpenAI API key here>',\n",
        "        'base_url': '<your Azure OpenAI API base here>',\n",
        "        'api_type': 'azure',\n",
        "        'api_version': '2023-06-01-preview',\n",
        "    },\n",
        "]\n",
        "```\n",
        "\n",
        "Puedes establecer el valor de config_list de la manera que prefieras. Por favor, consulta este cuaderno para ver ejemplos completos de código de los diferentes métodos. [notebook](https://github.com/microsoft/autogen/blob/main/notebook/oai_openai_utils.ipynb)"
      ]
    },
    {
      "cell_type": "markdown",
      "metadata": {
        "id": "HrRxrwH6sqFE"
      },
      "source": [
        "## Realizo los agentes"
      ]
    },
    {
      "cell_type": "code",
      "execution_count": null,
      "metadata": {
        "id": "SSpn4T5xsqFG"
      },
      "outputs": [],
      "source": [
        "gpt4_config = {\n",
        "    \"cache_seed\": 42,  # change the cache_seed for different trials\n",
        "    \"temperature\": 0,\n",
        "    \"config_list\": config_list_gpt4,\n",
        "    \"timeout\": 120,\n",
        "}\n",
        "user_proxy = autogen.UserProxyAgent(\n",
        "    name=\"Admin\",\n",
        "    system_message=\"\"\"Un administrador humano. Interactúa con todos los agentes para llevar un paso a paso, desde la extracion de texto, el formateo de texto, la traduccion de texto a otros idiomas y por ultimo actulizar la pagina web en cada idioma. La ejecución del plan necesita ser aprobada por este administrador.\n",
        "        \"\"\",\n",
        "    code_execution_config=False,\n",
        ")\n",
        "engineer = autogen.AssistantAgent(\n",
        "    name=\"Engineer\",\n",
        "    llm_config=gpt4_config,\n",
        "    system_message=\"\"\"Eres ingeniero experto en procesamiento del lenguaje natural. Escribes el codigo en python, ademas tienes la capacidad para porbar el codigo que produces\n",
        "    y puede corregir erroes. Sos especialista en extraer texto de paginas web\n",
        "\"\"\",\n",
        ")\n",
        "engineer1 = autogen.AssistantAgent(\n",
        "    name=\"Engineer1\",\n",
        "    llm_config=gpt4_config,\n",
        "    system_message=\"\"\"Eres ingeniero experto en procesamiento del lenguaje natural. Escribes el codigo en python, ademas tienes la capacidad para porbar el codigo que produces\n",
        "    y puede corregir erroes. Sos especialista en formatear texto.\n",
        "\"\"\",\n",
        ")\n",
        "marketing_digital = autogen.AssistantAgent(\n",
        "    name=\"marketing_digital\",\n",
        "    llm_config=gpt4_config,\n",
        "    system_message=\"\"\"Estas capacitado en diversas áreas del marketing digital, incluida la creación y optimización de páginas web de publicidad, el diseño de estrategias de marketing en línea, la gestión de campañas publicitarias en plataformas digitales, el análisis de datos y métricas para medir el rendimiento de las campañas.\"\"\",\n",
        ")\n",
        "traductor = autogen.AssistantAgent(\n",
        "    name=\"traductor\",\n",
        "    system_message=\"\"\"Eres un experto traductor de inglés. Tu tarea principal es traducir textos del español al ingles con precisión y fluidez. Estás familiarizado con una amplia variedad de contextos y terminologías en inglés, y puedes adaptar tus traducciones según sea necesario para garantizar la máxima comprensión y calidad. Además, estás disponible para realizar revisiones y ajustes en las traducciones según las solicitudes del usuario\n",
        "\"\"\",\n",
        "    llm_config=gpt4_config,\n",
        ")\n",
        "traductor1 = autogen.AssistantAgent(\n",
        "    name=\"traductor\",\n",
        "    system_message=\"\"\"Eres un experto traductor de italiano. Tu tarea principal es traducir textos del español al italiano con precisión y fluidez. Estás familiarizado con una amplia variedad de contextos y terminologías en inglés, y puedes adaptar tus traducciones según sea necesario para garantizar la máxima comprensión y calidad. Además, estás disponible para realizar revisiones y ajustes en las traducciones según las solicitudes del usuario\n",
        "\"\"\",\n",
        "    llm_config=gpt4_config,\n",
        ")\n",
        "traductor2 = autogen.AssistantAgent(\n",
        "    name=\"traductor2\",\n",
        "    system_message=\"\"\"Eres un experto traductor de Frances. Tu tarea principal es traducir textos del español al frances con precisión y fluidez. Estás familiarizado con una amplia variedad de contextos y terminologías en inglés, y puedes adaptar tus traducciones según sea necesario para garantizar la máxima comprensión y calidad. Además, estás disponible para realizar revisiones y ajustes en las traducciones según las solicitudes del usuario\n",
        "\"\"\",\n",
        "    llm_config=gpt4_config,\n",
        ")\n",
        "groupchat = autogen.GroupChat(\n",
        "    agents=[user_proxy, engineer, engineer1, marketing_digital, traductor, traductor1, traductor2], messages=[], max_round=50\n",
        ")\n",
        "manager = autogen.GroupChatManager(groupchat=groupchat, llm_config=gpt4_config)"
      ]
    },
    {
      "cell_type": "markdown",
      "metadata": {
        "id": "3OmYeJuNsqFH"
      },
      "source": [
        "##Iniciamos el chat"
      ]
    },
    {
      "cell_type": "code",
      "execution_count": null,
      "metadata": {
        "id": "947mEI0-sqFH"
      },
      "outputs": [],
      "source": [
        "user_proxy.initiate_chat(\n",
        "    manager,\n",
        "    message=\"\"\"\n",
        "Traducir la pagina de español a los demas idiomas, este es el URL:.....\n",
        "\"\"\",\n",
        ")"
      ]
    }
  ],
  "metadata": {
    "kernelspec": {
      "display_name": "flaml",
      "language": "python",
      "name": "python3"
    },
    "language_info": {
      "codemirror_mode": {
        "name": "ipython",
        "version": 3
      },
      "file_extension": ".py",
      "mimetype": "text/x-python",
      "name": "python",
      "nbconvert_exporter": "python",
      "pygments_lexer": "ipython3",
      "version": "3.9.17"
    },
    "orig_nbformat": 4,
    "colab": {
      "provenance": []
    }
  },
  "nbformat": 4,
  "nbformat_minor": 0
}